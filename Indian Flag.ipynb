{
 "cells": [
  {
   "cell_type": "code",
   "execution_count": 1,
   "metadata": {},
   "outputs": [],
   "source": [
    "import turtle"
   ]
  },
  {
   "cell_type": "code",
   "execution_count": 2,
   "metadata": {},
   "outputs": [],
   "source": [
    "flag=turtle.Turtle()\n",
    "turtle.speed(3)\n",
    "turtle.pensize(5)"
   ]
  },
  {
   "cell_type": "code",
   "execution_count": 3,
   "metadata": {},
   "outputs": [],
   "source": [
    "def move(x,y):\n",
    "    flag.penup()\n",
    "    flag.goto(x,y)\n",
    "    flag.pendown()"
   ]
  },
  {
   "cell_type": "code",
   "execution_count": 4,
   "metadata": {},
   "outputs": [],
   "source": [
    "flag.color(\"#054187\")"
   ]
  },
  {
   "cell_type": "code",
   "execution_count": 5,
   "metadata": {},
   "outputs": [],
   "source": [
    "#Ashok chakra\n",
    "for i in range(24):\n",
    "    flag.forward(80)\n",
    "    flag.backward(80)\n",
    "    flag.left(15)\n",
    "move(0, -80)\n",
    "flag.circle(80,360)"
   ]
  },
  {
   "cell_type": "code",
   "execution_count": 6,
   "metadata": {},
   "outputs": [],
   "source": [
    "#green rectangle\n",
    "flag.begin_fill()\n",
    "flag.color(\"green\")\n",
    "flag.forward(370)\n",
    "flag.backward(700)\n",
    "flag.right(90)\n",
    "flag.forward(200)\n",
    "flag.left(90)\n",
    "flag.forward(700)\n",
    "flag.left(90)\n",
    "flag.forward(200)\n",
    "flag.left(90)\n",
    "flag.end_fill()"
   ]
  },
  {
   "cell_type": "code",
   "execution_count": 7,
   "metadata": {},
   "outputs": [],
   "source": [
    "#orange rectangle\n",
    "flag.color(\"orange\")\n",
    "move(-350,80)\n",
    "flag.begin_fill()\n",
    "flag.right(180)\n",
    "flag.forward(700)\n",
    "flag.left(90)\n",
    "flag.forward(200)\n",
    "flag.left(90)\n",
    "flag.forward(700)\n",
    "flag.left(90)\n",
    "flag.forward(200)\n",
    "flag.end_fill()"
   ]
  },
  {
   "cell_type": "code",
   "execution_count": null,
   "metadata": {},
   "outputs": [],
   "source": []
  }
 ],
 "metadata": {
  "kernelspec": {
   "display_name": "Python 3",
   "language": "python",
   "name": "python3"
  },
  "language_info": {
   "codemirror_mode": {
    "name": "ipython",
    "version": 3
   },
   "file_extension": ".py",
   "mimetype": "text/x-python",
   "name": "python",
   "nbconvert_exporter": "python",
   "pygments_lexer": "ipython3",
   "version": "3.8.3"
  }
 },
 "nbformat": 4,
 "nbformat_minor": 4
}
